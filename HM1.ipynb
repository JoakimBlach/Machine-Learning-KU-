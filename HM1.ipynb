{
 "cells": [
  {
   "cell_type": "code",
   "execution_count": 78,
   "metadata": {
    "collapsed": true
   },
   "outputs": [],
   "source": [
    "# Loading modules\n",
    "\n",
    "import pandas as pd\n",
    "import numpy as np\n",
    "import matplotlib.pyplot as plt"
   ]
  },
  {
   "cell_type": "code",
   "execution_count": 16,
   "metadata": {},
   "outputs": [
    {
     "name": "stdout",
     "output_type": "stream",
     "text": [
      "   0        1        2        3        4        5        6        7        \\\n",
      "0        0        0        0        0        0        0        0        0   \n",
      "\n",
      "   8        9         ...     7839990  7839991  7839992  7839993  7839994  \\\n",
      "0        0        0   ...           0        0        0        0        0   \n",
      "\n",
      "   7839995  7839996  7839997  7839998  7839999  \n",
      "0        0        0        0        0        0  \n",
      "\n",
      "[1 rows x 7840000 columns]\n"
     ]
    },
    {
     "data": {
      "text/plain": [
       "(1, 7840000)"
      ]
     },
     "execution_count": 16,
     "metadata": {},
     "output_type": "execute_result"
    }
   ],
   "source": [
    "# Importing the data\n",
    "df = pd.read_csv('MNIST-Train-cropped.txt', header = None, sep=\" \")\n",
    "#df = np.loadtxt('MNIST-Train-cropped.txt', usecols=(0, 1))\n",
    "\n",
    "print(df)\n",
    "df.shape"
   ]
  },
  {
   "cell_type": "code",
   "execution_count": 45,
   "metadata": {},
   "outputs": [
    {
     "name": "stdout",
     "output_type": "stream",
     "text": [
      "[[ 0.  0.  0. ...,  0.  0.  0.]]\n"
     ]
    },
    {
     "data": {
      "text/plain": [
       "(1, 7840000)"
      ]
     },
     "execution_count": 45,
     "metadata": {},
     "output_type": "execute_result"
    }
   ],
   "source": [
    "# Tranforming first column into matrix\n",
    "df = np.matrix(df)\n",
    "print(df)\n",
    "df.shape"
   ]
  },
  {
   "cell_type": "code",
   "execution_count": 75,
   "metadata": {},
   "outputs": [
    {
     "data": {
      "text/plain": [
       "(1, 784)"
      ]
     },
     "execution_count": 75,
     "metadata": {},
     "output_type": "execute_result"
    }
   ],
   "source": [
    "# Transforming first 784 obs. into a vector\n",
    "vector = df[0, 0:784]\n",
    "\n",
    "#for i in range(784):\n",
    "#    count1 = 0\n",
    "#    count2 = 9999\n",
    "#    np.c_[matrix, df[0, count1:count2]]\n",
    "#    count1 = count2+1\n",
    "#    count2 = count2*2+1\n",
    "vector.shape"
   ]
  },
  {
   "cell_type": "code",
   "execution_count": 105,
   "metadata": {},
   "outputs": [
    {
     "name": "stdout",
     "output_type": "stream",
     "text": [
      "[[ 0.          0.          0.          0.          0.          0.          0.\n",
      "   0.          0.          0.          0.          0.          0.          0.\n",
      "   0.          0.          0.          0.          0.          0.          0.\n",
      "   0.          0.          0.          0.          0.          0.          0.        ]\n",
      " [ 0.          0.          0.          0.          0.          0.          0.\n",
      "   0.          0.          0.          0.          0.          0.          0.\n",
      "   0.          0.          0.          0.          0.          0.          0.\n",
      "   0.          0.          0.          0.          0.          0.          0.        ]\n",
      " [ 0.          0.          0.          0.          0.          0.          0.\n",
      "   0.          0.          0.          0.          0.          0.          0.\n",
      "   0.          0.          0.          0.          0.          0.          0.\n",
      "   0.          0.          0.          0.          0.          0.          0.        ]\n",
      " [ 0.          0.          0.          0.          0.          0.          0.\n",
      "   0.          0.          0.          0.          0.          0.          0.\n",
      "   0.          0.          0.          0.          0.          0.          0.\n",
      "   0.          0.          0.          0.          0.          0.          0.        ]\n",
      " [ 0.          0.          0.          0.          0.          0.          0.\n",
      "   0.          0.          0.          0.          0.          0.          0.\n",
      "   0.          0.          0.          0.          0.          0.          0.\n",
      "   0.          0.          0.215686    0.533333    0.          0.          0.        ]\n",
      " [ 0.          0.          0.          0.          0.          0.          0.\n",
      "   0.          0.          0.          0.          0.          0.          0.\n",
      "   0.          0.          0.          0.          0.          0.          0.\n",
      "   0.          0.          0.67451     0.992157    0.          0.          0.        ]\n",
      " [ 0.          0.          0.          0.          0.          0.          0.\n",
      "   0.          0.          0.          0.          0.          0.          0.\n",
      "   0.          0.          0.          0.          0.          0.          0.\n",
      "   0.          0.0705882   0.886275    0.992157    0.          0.          0.        ]\n",
      " [ 0.          0.          0.          0.          0.          0.          0.\n",
      "   0.192157    0.0705882   0.          0.          0.          0.          0.\n",
      "   0.          0.          0.          0.          0.          0.          0.\n",
      "   0.          0.670588    0.992157    0.992157    0.          0.          0.        ]\n",
      " [ 0.          0.          0.          0.          0.          0.          0.117647\n",
      "   0.933333    0.858824    0.313725    0.          0.          0.          0.\n",
      "   0.          0.          0.          0.          0.          0.          0.\n",
      "   0.0901961   0.858824    0.992157    0.831373    0.          0.          0.        ]\n",
      " [ 0.          0.          0.          0.          0.          0.          0.141176\n",
      "   0.992157    0.992157    0.611765    0.054902    0.          0.          0.\n",
      "   0.          0.          0.          0.          0.          0.          0.\n",
      "   0.258824    0.992157    0.992157    0.529412    0.          0.          0.        ]\n",
      " [ 0.          0.          0.          0.          0.          0.          0.368627\n",
      "   0.992157    0.992157    0.419608    0.00392157  0.          0.          0.\n",
      "   0.          0.          0.          0.          0.          0.\n",
      "   0.0941176   0.835294    0.992157    0.992157    0.517647    0.          0.\n",
      "   0.        ]\n",
      " [ 0.          0.          0.          0.          0.          0.          0.603922\n",
      "   0.992157    0.992157    0.992157    0.603922    0.545098    0.0431373\n",
      "   0.          0.          0.          0.          0.          0.          0.\n",
      "   0.447059    0.992157    0.992157    0.956863    0.0627451   0.          0.\n",
      "   0.        ]\n",
      " [ 0.          0.          0.          0.          0.          0.0117647\n",
      "   0.666667    0.992157    0.992157    0.992157    0.992157    0.992157\n",
      "   0.745098    0.137255    0.          0.          0.          0.          0.\n",
      "   0.152941    0.866667    0.992157    0.992157    0.521569    0.          0.\n",
      "   0.          0.        ]\n",
      " [ 0.          0.          0.          0.          0.          0.0705882\n",
      "   0.992157    0.992157    0.992157    0.803922    0.352941    0.745098\n",
      "   0.992157    0.945098    0.317647    0.          0.          0.          0.\n",
      "   0.580392    0.992157    0.992157    0.764706    0.0431373   0.          0.\n",
      "   0.          0.        ]\n",
      " [ 0.          0.          0.          0.          0.          0.0705882\n",
      "   0.992157    0.992157    0.776471    0.0431373   0.          0.00784314\n",
      "   0.27451     0.882353    0.941176    0.176471    0.          0.          0.180392\n",
      "   0.898039    0.992157    0.992157    0.313725    0.          0.          0.\n",
      "   0.          0.        ]\n",
      " [ 0.          0.          0.          0.          0.          0.0705882\n",
      "   0.992157    0.992157    0.713725    0.          0.          0.          0.\n",
      "   0.627451    0.992157    0.729412    0.0627451   0.          0.509804\n",
      "   0.992157    0.992157    0.776471    0.0352941   0.          0.          0.\n",
      "   0.          0.        ]\n",
      " [ 0.          0.          0.          0.          0.          0.494118\n",
      "   0.992157    0.992157    0.968627    0.168627    0.          0.          0.\n",
      "   0.423529    0.992157    0.992157    0.364706    0.          0.717647\n",
      "   0.992157    0.992157    0.317647    0.          0.          0.          0.\n",
      "   0.          0.        ]\n",
      " [ 0.          0.          0.          0.          0.          0.533333\n",
      "   0.992157    0.984314    0.945098    0.603922    0.          0.          0.\n",
      "   0.00392157  0.466667    0.992157    0.988235    0.976471    0.992157\n",
      "   0.992157    0.788235    0.00784314  0.          0.          0.          0.\n",
      "   0.          0.        ]\n",
      " [ 0.          0.          0.          0.          0.          0.686275\n",
      "   0.882353    0.364706    0.          0.          0.          0.          0.\n",
      "   0.          0.0980392   0.588235    0.992157    0.992157    0.992157\n",
      "   0.980392    0.305882    0.          0.          0.          0.          0.\n",
      "   0.          0.        ]\n",
      " [ 0.          0.          0.          0.          0.          0.101961\n",
      "   0.67451     0.321569    0.          0.          0.          0.          0.\n",
      "   0.          0.          0.105882    0.733333    0.976471    0.811765\n",
      "   0.713725    0.          0.          0.          0.          0.          0.\n",
      "   0.          0.        ]\n",
      " [ 0.          0.          0.          0.          0.          0.65098\n",
      "   0.992157    0.321569    0.          0.          0.          0.          0.\n",
      "   0.          0.          0.          0.          0.25098     0.00784314\n",
      "   0.          0.          0.          0.          0.          0.          0.\n",
      "   0.          0.        ]\n",
      " [ 0.          0.          0.          0.          0.          1.          0.94902\n",
      "   0.219608    0.          0.          0.          0.          0.          0.\n",
      "   0.          0.          0.          0.          0.          0.          0.\n",
      "   0.          0.          0.          0.          0.          0.          0.        ]\n",
      " [ 0.          0.          0.          0.          0.          0.968627\n",
      "   0.764706    0.152941    0.          0.          0.          0.          0.\n",
      "   0.          0.          0.          0.          0.          0.          0.\n",
      "   0.          0.          0.          0.          0.          0.          0.\n",
      "   0.        ]\n",
      " [ 0.          0.          0.          0.          0.          0.498039\n",
      "   0.25098     0.          0.          0.          0.          0.          0.\n",
      "   0.          0.          0.          0.          0.          0.          0.\n",
      "   0.          0.          0.          0.          0.          0.          0.\n",
      "   0.        ]\n",
      " [ 0.          0.          0.          0.          0.          0.          0.\n",
      "   0.          0.          0.          0.          0.          0.          0.\n",
      "   0.          0.          0.          0.          0.          0.          0.\n",
      "   0.          0.          0.          0.          0.          0.          0.        ]\n",
      " [ 0.          0.          0.          0.          0.          0.          0.\n",
      "   0.          0.          0.          0.          0.          0.          0.\n",
      "   0.          0.          0.          0.          0.          0.          0.\n",
      "   0.          0.          0.          0.          0.          0.          0.        ]\n",
      " [ 0.          0.          0.          0.          0.          0.          0.\n",
      "   0.          0.          0.          0.          0.          0.          0.\n",
      "   0.          0.          0.          0.          0.          0.          0.\n",
      "   0.          0.          0.          0.          0.          0.          0.        ]\n",
      " [ 0.          0.          0.          0.          0.          0.          0.\n",
      "   0.          0.          0.          0.          0.          0.          0.\n",
      "   0.          0.          0.          0.          0.          0.          0.\n",
      "   0.          0.          0.          0.          0.          0.          0.        ]]\n"
     ]
    },
    {
     "data": {
      "text/plain": [
       "(28, 28)"
      ]
     },
     "execution_count": 105,
     "metadata": {},
     "output_type": "execute_result"
    }
   ],
   "source": [
    "# Transforming vector into 28 x 28 matrix\n",
    "matrix = np.reshape(vector, (-1, 28))\n",
    "print(matrix)\n",
    "matrix.shape"
   ]
  },
  {
   "cell_type": "code",
   "execution_count": 100,
   "metadata": {},
   "outputs": [
    {
     "data": {
      "image/png": "[encoded data removed]",
      "text/plain": [
       "<matplotlib.figure.Figure at 0x1133f0828>"
      ]
     },
     "metadata": {},
     "output_type": "display_data"
    }
   ],
   "source": [
    "# Display as image\n",
    "plt.imshow(matrix)\n",
    "plt.show()"
   ]
  },
  {
   "cell_type": "code",
   "execution_count": null,
   "metadata": {},
   "outputs": [],
   "source": []
  },
  {
   "cell_type": "code",
   "execution_count": null,
   "metadata": {
    "collapsed": true
   },
   "outputs": [],
   "source": []
  },
  {
   "cell_type": "code",
   "execution_count": null,
   "metadata": {
    "collapsed": true
   },
   "outputs": [],
   "source": []
  },
  {
   "cell_type": "code",
   "execution_count": null,
   "metadata": {
    "collapsed": true
   },
   "outputs": [],
   "source": []
  },
  {
   "cell_type": "code",
   "execution_count": null,
   "metadata": {
    "collapsed": true
   },
   "outputs": [],
   "source": []
  },
  {
   "cell_type": "code",
   "execution_count": null,
   "metadata": {
    "collapsed": true
   },
   "outputs": [],
   "source": []
  },
  {
   "cell_type": "code",
   "execution_count": null,
   "metadata": {
    "collapsed": true
   },
   "outputs": [],
   "source": []
  },
  {
   "cell_type": "code",
   "execution_count": null,
   "metadata": {
    "collapsed": true
   },
   "outputs": [],
   "source": []
  },
  {
   "cell_type": "code",
   "execution_count": null,
   "metadata": {
    "collapsed": true
   },
   "outputs": [],
   "source": []
  },
  {
   "cell_type": "code",
   "execution_count": null,
   "metadata": {
    "collapsed": true
   },
   "outputs": [],
   "source": []
  }
 ],
 "metadata": {
  "kernelspec": {
   "display_name": "Python 3",
   "language": "python",
   "name": "python3"
  },
  "language_info": {
   "codemirror_mode": {
    "name": "ipython",
    "version": 3
   },
   "file_extension": ".py",
   "mimetype": "text/x-python",
   "name": "python",
   "nbconvert_exporter": "python",
   "pygments_lexer": "ipython3",
   "version": "3.6.3"
  }
 },
 "nbformat": 4,
 "nbformat_minor": 2
}
